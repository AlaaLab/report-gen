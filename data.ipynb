{
 "cells": [
  {
   "cell_type": "code",
   "execution_count": 1,
   "metadata": {},
   "outputs": [],
   "source": [
    "import pandas as pd;\n",
    "import numpy as np;\n",
    "import os;"
   ]
  },
  {
   "cell_type": "code",
   "execution_count": 17,
   "metadata": {},
   "outputs": [],
   "source": [
    "def generate_report(filepath, CUTOFF):\n",
    "    #read in file and create DF with numerics\n",
    "    print(filepath)\n",
    "    df = pd.read_excel(filepath).fillna(-99)\n",
    "    df = df.applymap(lambda x: x.replace('%', '') if isinstance(x, str) else x)\n",
    "    numerics = [\"T:COV\", \"T:MAF\", \"T:LogR\", \"ExAC\", \"gnomADexome\", \"esp6500si\", \"1000g2015aug\", \"ucsf500normN\", \"ucsf500normT\", 'CADD']\n",
    "    for filter in numerics:\n",
    "        # try:                \n",
    "        #     df[filter] = df[filter].str.replace('%', '')\n",
    "        #     df[filter] = df[filter].astype(float) /100\n",
    "        # except BaseException:\n",
    "        #     print(df[filter])\n",
    "        df[filter] = pd.to_numeric(df[filter], errors='coerce')\n",
    "    \n",
    "    \n",
    "    clean_df = df.copy()\n",
    "    clean_df.insert(11, \"Mut_Cov\", (clean_df['T:MAF']/100)*clean_df['T:COV'])   \n",
    "    clean_df = clean_df[clean_df['ucsf500normN'].isna() | (clean_df['ucsf500normN'] < 0.1)]\n",
    "    # clean_df = clean_df[\n",
    "    # (clean_df.gnomADexome < CUTOFF) &\n",
    "    # (clean_df.esp6500si < CUTOFF) &\n",
    "    # (clean_df[\"1000g2015aug\"] < CUTOFF) &\n",
    "    # (clean_df.ucsf500normN < CUTOFF) &\n",
    "    # (clean_df.ucsf500normT < CUTOFF)]\n",
    "\n",
    "    #filtering for low percents, based on CUTOFF parameter\n",
    "    col_names = ['ExAC','gnomADexome','1000g2015aug']\n",
    "    for col in col_names:\n",
    "        clean_df = clean_df[clean_df[col]<CUTOFF]\n",
    "\n",
    "\n",
    "\n",
    "    #ensuring IDH present, which will be reference for filtering in future\n",
    "    mask = clean_df['Variant'].str.contains(\"IDH\")\n",
    "    ref_MAF = clean_df.loc[mask,'T:MAF'].iloc[0]\n",
    "    ref_COV = clean_df.loc[mask,'T:COV'].iloc[0]\n",
    "    ref_MCov = clean_df.loc[mask,'Mut_Cov'].iloc[0]\n",
    "\n",
    "    #filtering based on the IDH values\n",
    "    clean_df = clean_df[clean_df['T:MAF']>= (ref_MAF)]\n",
    "    clean_df = clean_df[clean_df['T:COV']>= 100]\n",
    "    clean_df = clean_df[clean_df['Mut_Cov']>= (ref_MCov*.1)]\n",
    "    clean_df = clean_df[clean_df['TranscriptID'] != -99]\n",
    "\n",
    "    \n",
    "\n",
    "\n",
    "    # cols = [\"Variant\", \"TranscriptID\", \"ExonicFunc\", \"AAChange\"] + numerics[:2] + [\"Mut_Cov\"] + numerics[2:]\n",
    "    # report = clean_df.loc[:, cols]\n",
    "    print(\"report made\")\n",
    "    return clean_df"
   ]
  },
  {
   "cell_type": "code",
   "execution_count": 23,
   "metadata": {},
   "outputs": [
    {
     "name": "stdout",
     "output_type": "stream",
     "text": [
      "Excel/CCGL-3149_CGP-9470_T_signout.xlsx\n",
      "report made\n",
      "Excel/CCGL-3619_CGP-10495_T_CGP-10511_N_signout.xlsx\n",
      "report made\n",
      "Excel/CCGL-3152_CGP-9473_T_signout.xlsx\n",
      "report made\n",
      "Excel/CCGL-2835_CGP-8785_T_signout.xlsx\n",
      "report made\n",
      "Excel/CCGL-2831_CGP-8784_T_signout.xlsx\n",
      "report made\n",
      "Excel/CCGL-3205%2CCCGL-1628_CGP-9586_T_CGP-6259_N_signout.xlsx\n",
      "report made\n"
     ]
    },
    {
     "data": {
      "text/plain": [
       "['CCGL-3205', 'CCGL-2835', 'CCGL-3619', 'CCGL-3149', 'CCGL-2831', 'CCGL-3152']"
      ]
     },
     "execution_count": 23,
     "metadata": {},
     "output_type": "execute_result"
    }
   ],
   "source": [
    "#generating for all files in directory\n",
    "filepaths = os.listdir(\"Excel\")\n",
    "names = [f.replace('%', '_').split('_')[0] for f in filepaths]\n",
    "combo = zip(names, filepaths)\n",
    "reports = {n: generate_report(\"Excel/\" + f, 0.01) for n,f in combo}\n",
    "\n",
    "#writing csv files to folder\n",
    "if not os.path.exists(\"Results\"):\n",
    "    os.mkdir(\"Results\")\n",
    "for n in reports:\n",
    "    reports.get(n).to_csv(\"Results/\" + n)\n",
    "os.listdir(\"Results\")"
   ]
  },
  {
   "cell_type": "code",
   "execution_count": 52,
   "metadata": {},
   "outputs": [
    {
     "data": {
      "text/plain": [
       "('SYNE1',\n",
       " 'SYNE1:NM_033071:exon37:c.4843G>A:p.A1615T,SYNE1:NM_182961:exon37:c.4822G>A:p.A1608T')"
      ]
     },
     "execution_count": 52,
     "metadata": {},
     "output_type": "execute_result"
    }
   ],
   "source": [
    "variants = set()\n",
    "for report in reports.values():\n",
    "    var = report[[\"Variant\", \"AAChange\"]]\n",
    "    var = var.reset_index()\n",
    "    # print(var)\n",
    "    for index,row in var.iterrows():\n",
    "        # print(tuple(row[1:]))\n",
    "        variants.add(tuple(row[1:]))"
   ]
  },
  {
   "cell_type": "code",
   "execution_count": null,
   "metadata": {},
   "outputs": [],
   "source": []
  }
 ],
 "metadata": {
  "kernelspec": {
   "display_name": "base",
   "language": "python",
   "name": "python3"
  },
  "language_info": {
   "codemirror_mode": {
    "name": "ipython",
    "version": 3
   },
   "file_extension": ".py",
   "mimetype": "text/x-python",
   "name": "python",
   "nbconvert_exporter": "python",
   "pygments_lexer": "ipython3",
   "version": "3.9.13"
  },
  "orig_nbformat": 4,
  "vscode": {
   "interpreter": {
    "hash": "73426f12d1759081d99caedc0e112dcda7a31d2029c90e0b4f139d4ebd81d65c"
   }
  }
 },
 "nbformat": 4,
 "nbformat_minor": 2
}
