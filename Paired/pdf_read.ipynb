{
 "cells": [
  {
   "cell_type": "code",
   "execution_count": 2,
   "metadata": {},
   "outputs": [],
   "source": [
    "import PyPDF2 as pdf\n",
    "from tabula import read_pdf\n",
    "from tabulate import tabulate\n",
    "import pandas as pd\n",
    "import os\n",
    "import re"
   ]
  },
  {
   "cell_type": "code",
   "execution_count": 3,
   "metadata": {},
   "outputs": [],
   "source": [
    "def gener_gene_data(pdf_path):\n",
    "    #read in pdf and get the table\n",
    "    pdf = read_pdf(pdf_path, pages=1)\n",
    "    pd_df = pdf[1]\n",
    "    pd_df = pd_df.rename(columns=pd_df.iloc[0]).drop(pd_df.index[0])\n",
    "\n",
    "    #get the transcript IDs from pdf\n",
    "    id_list = list(pd_df[\"TRANSCRIPT ID\"])\n",
    "    id_list = [x.split('.')[0] for x in id_list]\n",
    "    patient_name = '-'.join(pdf_path.split('_')[:2])\n",
    "    \n",
    "    print(\"Patient Name: \" + patient_name)\n",
    "    print(\"Transcript Ids being retrieved: \" + str(id_list))\n",
    "    \n",
    "    #find corresponding excel file based on patient name\n",
    "    xl_files_og = [f for f in os.listdir('.') if os.path.isfile(f) and f.endswith('.xlsx')]\n",
    "    xl_files = [f.replace('%', '_') for f in xl_files_og]\n",
    "    xl_files = [f.split('_')[0] for f in xl_files]\n",
    "    ind = 0\n",
    "    for i in range(0, len(xl_files)):\n",
    "        if patient_name == xl_files[i]:\n",
    "            ind = i\n",
    "    \n",
    "    # read excel file and filter based on transcript IDs list\n",
    "    print(\"Reading from \" + xl_files_og[ind])\n",
    "    gene_data = pd.read_excel(xl_files_og[ind])\n",
    "    # gene_data[\"Variant Filter\"] = gene_data.apply(lambda s: s.Variant.split(' ')[0], axis=1)\n",
    "    gd = gene_data.loc[gene_data[\"TranscriptID\"].isin(id_list)]\n",
    "    # print(\"table made\")\n",
    "    return patient_name, gd  \n",
    "\n",
    "# gener_gene_data(\"CCGL_3205_FinalReport_pedi_LFS_associated_diffuse_astrocytoma_IDH1_R132H_germline_TP53.pdf\")"
   ]
  },
  {
   "cell_type": "code",
   "execution_count": 8,
   "metadata": {},
   "outputs": [
    {
     "name": "stdout",
     "output_type": "stream",
     "text": [
      "Patient Name: CCGL-3152\n",
      "Transcript Ids being retrieved: ['NM_000489', 'all', 'NM_005896']\n",
      "Reading from CCGL-3152_CGP-9473_T_signout.xlsx\n",
      "Patient Name: CCGL-3149\n",
      "Transcript Ids being retrieved: ['NM_000489', 'all', 'NM_005896', 'all', 'NM_000546']\n",
      "Reading from CCGL-3149_CGP-9470_T_signout.xlsx\n",
      "Patient Name: CCGL-2831\n",
      "Transcript Ids being retrieved: ['NM_000489', 'NM_005896', 'NM_000546']\n",
      "Reading from CCGL-2831_CGP-8784_T_signout.xlsx\n",
      "Patient Name: CCGL-2835\n",
      "Transcript Ids being retrieved: ['NM_000489', 'NM_005896', 'NM_181523', 'NM_000546']\n",
      "Reading from CCGL-2835_CGP-8785_T_signout.xlsx\n",
      "Patient Name: CCGL-3205\n",
      "Transcript Ids being retrieved: ['NM_005896', 'NM_000546']\n",
      "Reading from CCGL-3205%2CCCGL-1628_CGP-9586_T_CGP-6259_N_signout.xlsx\n",
      "Patient Name: CCGL-3619\n",
      "Transcript Ids being retrieved: ['NM_000489', 'NM_000489', 'NM_000489', 'NM_005896', 'NM_001042492', 'NM_017617', 'NM_152594', 'NM_000546']\n",
      "Reading from CCGL-3619_CGP-10495_T_CGP-10511_N_signout.xlsx\n"
     ]
    },
    {
     "data": {
      "text/plain": [
       "['CCGL-3205', 'CCGL-2835', 'CCGL-3619', 'CCGL-3149', 'CCGL-2831', 'CCGL-3152']"
      ]
     },
     "execution_count": 8,
     "metadata": {},
     "output_type": "execute_result"
    }
   ],
   "source": [
    "files = [f for f in os.listdir('.') if os.path.isfile(f) and f.endswith('.pdf')]\n",
    "# print(\"using the following pdf files: \\n\" + str(files))\n",
    "names = []\n",
    "reports = []\n",
    "for f in files:\n",
    "    x = gener_gene_data(f)\n",
    "    names.append(x[0])\n",
    "    reports.append(x[1])\n",
    "\n",
    "combo = zip(names, reports)\n",
    "data_reports = {n:r for n,r in combo}\n",
    "\n",
    "#writing to directory\n",
    "if not os.path.exists(\"Results\"):\n",
    "    os.mkdir(\"Results\")\n",
    "for n in names:\n",
    "    data_reports.get(n).to_csv(\"Results/\" + n)\n",
    "os.listdir(\"Results\")"
   ]
  },
  {
   "cell_type": "code",
   "execution_count": 49,
   "metadata": {},
   "outputs": [
    {
     "name": "stdout",
     "output_type": "stream",
     "text": [
      "['CCGL-3205', 'CCGL-2835', 'CCGL-3619', 'CCGL-3149', 'CCGL-2831', 'CCGL-3152']\n"
     ]
    }
   ],
   "source": [
    "# aggregating all results by reading in each csv file, appending to DF and adding CCGL\n",
    "files = os.listdir(\"Results\")\n",
    "print(files)\n",
    "patient_csvs = []\n",
    "for file in files:\n",
    "    csv = pd.read_csv(\"Results/\" + file)\n",
    "    csv.insert(loc=0, column='CCGL', value=file)\n",
    "    patient_csvs.append(csv)\n",
    "\n",
    "aggr = pd.concat(patient_csvs)\n",
    "\n",
    "#change based on which columns to keep\n",
    "cols_to_keep = ['CCGL', 'CHROM', 'POS', 'REF', 'ALT', 'Func', \n",
    "       'Variant', 'TranscriptID', 'Classification', 'T:COV', 'T:MAF', 'T:LogR',\n",
    "       'GeneDetail', 'ExonicFunc',\n",
    "       'AAChange', 'ExAC', 'gnomADexome', 'esp6500si', '1000g2015aug',\n",
    "       'snp150', 'ucsf500normT', 'ucsf500normN', 'cosmic87',\n",
    "       'clinvar', 'CADD']\n",
    "aggr = aggr.filter(cols_to_keep)\n",
    "\n",
    "#write to directory\n",
    "aggr.to_csv(\"Aggregate Data\")\n"
   ]
  },
  {
   "cell_type": "code",
   "execution_count": null,
   "metadata": {},
   "outputs": [],
   "source": []
  }
 ],
 "metadata": {
  "kernelspec": {
   "display_name": "base",
   "language": "python",
   "name": "python3"
  },
  "language_info": {
   "codemirror_mode": {
    "name": "ipython",
    "version": 3
   },
   "file_extension": ".py",
   "mimetype": "text/x-python",
   "name": "python",
   "nbconvert_exporter": "python",
   "pygments_lexer": "ipython3",
   "version": "3.9.13"
  },
  "orig_nbformat": 4,
  "vscode": {
   "interpreter": {
    "hash": "73426f12d1759081d99caedc0e112dcda7a31d2029c90e0b4f139d4ebd81d65c"
   }
  }
 },
 "nbformat": 4,
 "nbformat_minor": 2
}
